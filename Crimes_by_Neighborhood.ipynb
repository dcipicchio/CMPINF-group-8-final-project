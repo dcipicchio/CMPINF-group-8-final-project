{
 "cells": [
  {
   "cell_type": "code",
   "execution_count": 1,
   "metadata": {},
   "outputs": [],
   "source": [
    "import pandas as pd\n",
    "import numpy"
   ]
  },
  {
   "cell_type": "code",
   "execution_count": 2,
   "metadata": {},
   "outputs": [],
   "source": [
    "police = pd.read_csv(\"Police-Blotter.csv\")\n",
    "sort_police = police.sort_values(\"INCIDENTNEIGHBORHOOD\", inplace = True)"
   ]
  },
  {
   "cell_type": "code",
   "execution_count": 3,
   "metadata": {},
   "outputs": [
    {
     "data": {
      "text/html": [
       "<div>\n",
       "<style scoped>\n",
       "    .dataframe tbody tr th:only-of-type {\n",
       "        vertical-align: middle;\n",
       "    }\n",
       "\n",
       "    .dataframe tbody tr th {\n",
       "        vertical-align: top;\n",
       "    }\n",
       "\n",
       "    .dataframe thead th {\n",
       "        text-align: right;\n",
       "    }\n",
       "</style>\n",
       "<table border=\"1\" class=\"dataframe\">\n",
       "  <thead>\n",
       "    <tr style=\"text-align: right;\">\n",
       "      <th></th>\n",
       "      <th>PK</th>\n",
       "      <th>CCR</th>\n",
       "      <th>HIERARCHY</th>\n",
       "      <th>INCIDENTTIME</th>\n",
       "      <th>INCIDENTLOCATION</th>\n",
       "      <th>CLEAREDFLAG</th>\n",
       "      <th>INCIDENTNEIGHBORHOOD</th>\n",
       "      <th>INCIDENTZONE</th>\n",
       "      <th>INCIDENTHIERARCHYDESC</th>\n",
       "      <th>OFFENSES</th>\n",
       "      <th>INCIDENTTRACT</th>\n",
       "      <th>COUNCIL_DISTRICT</th>\n",
       "      <th>PUBLIC_WORKS_DIVISION</th>\n",
       "      <th>X</th>\n",
       "      <th>Y</th>\n",
       "    </tr>\n",
       "  </thead>\n",
       "  <tbody>\n",
       "    <tr>\n",
       "      <th>17893</th>\n",
       "      <td>2838132</td>\n",
       "      <td>16107592.0</td>\n",
       "      <td>6</td>\n",
       "      <td>2016-06-10T22:30:00</td>\n",
       "      <td>Allegheny SQ &amp; East Commons Pittsburgh, PA 15212</td>\n",
       "      <td>N</td>\n",
       "      <td>Allegheny Center</td>\n",
       "      <td>1</td>\n",
       "      <td>THEFT FROM AUTO</td>\n",
       "      <td>3304 Criminal Mischief. / 3934 Theft from Vehicle</td>\n",
       "      <td>2204.0</td>\n",
       "      <td>1.0</td>\n",
       "      <td>1.0</td>\n",
       "      <td>-80.003840</td>\n",
       "      <td>40.453434</td>\n",
       "    </tr>\n",
       "    <tr>\n",
       "      <th>189064</th>\n",
       "      <td>3114538</td>\n",
       "      <td>19216346.0</td>\n",
       "      <td>26</td>\n",
       "      <td>2019-10-23T14:59:00</td>\n",
       "      <td>East Ohio ST &amp; Cedar AV Pittsburgh, PA 15212</td>\n",
       "      <td>Y</td>\n",
       "      <td>Allegheny Center</td>\n",
       "      <td>1</td>\n",
       "      <td>DRUG PARAPHERNALIA</td>\n",
       "      <td>13(a)(32) Paraphernalia - Use or Possession</td>\n",
       "      <td>2204.0</td>\n",
       "      <td>1.0</td>\n",
       "      <td>1.0</td>\n",
       "      <td>-80.001697</td>\n",
       "      <td>40.453320</td>\n",
       "    </tr>\n",
       "    <tr>\n",
       "      <th>42689</th>\n",
       "      <td>2099230</td>\n",
       "      <td>5079795.0</td>\n",
       "      <td>99</td>\n",
       "      <td>2005-05-10T19:10:00</td>\n",
       "      <td>BRIGHTON RD &amp; PENNSYLVANIA AV PITTSBURGH, PA</td>\n",
       "      <td>Y</td>\n",
       "      <td>Allegheny Center</td>\n",
       "      <td>1</td>\n",
       "      <td>NaN</td>\n",
       "      <td>9498 302 (Mental)</td>\n",
       "      <td>2204.0</td>\n",
       "      <td>1.0</td>\n",
       "      <td>1.0</td>\n",
       "      <td>-80.015348</td>\n",
       "      <td>40.456096</td>\n",
       "    </tr>\n",
       "    <tr>\n",
       "      <th>70968</th>\n",
       "      <td>2899700</td>\n",
       "      <td>17046357.0</td>\n",
       "      <td>26</td>\n",
       "      <td>2017-03-14T19:34:00</td>\n",
       "      <td>100 Block South Commons Pittsburgh, PA 15212</td>\n",
       "      <td>Y</td>\n",
       "      <td>Allegheny Center</td>\n",
       "      <td>1</td>\n",
       "      <td>CRIMINAL TRESPASS</td>\n",
       "      <td>3503(b)(1)(i) Actual Communication</td>\n",
       "      <td>2204.0</td>\n",
       "      <td>1.0</td>\n",
       "      <td>1.0</td>\n",
       "      <td>-80.005189</td>\n",
       "      <td>40.451003</td>\n",
       "    </tr>\n",
       "    <tr>\n",
       "      <th>8878</th>\n",
       "      <td>2818870</td>\n",
       "      <td>16053508.0</td>\n",
       "      <td>99</td>\n",
       "      <td>2016-03-25T15:25:00</td>\n",
       "      <td>200 Block East Ohio ST Pittsburgh, PA 15212</td>\n",
       "      <td>Y</td>\n",
       "      <td>Allegheny Center</td>\n",
       "      <td>1</td>\n",
       "      <td>NaN</td>\n",
       "      <td>9501 Bench Warrant</td>\n",
       "      <td>2204.0</td>\n",
       "      <td>1.0</td>\n",
       "      <td>1.0</td>\n",
       "      <td>-80.003660</td>\n",
       "      <td>40.453022</td>\n",
       "    </tr>\n",
       "  </tbody>\n",
       "</table>\n",
       "</div>"
      ],
      "text/plain": [
       "             PK         CCR  HIERARCHY         INCIDENTTIME  \\\n",
       "17893   2838132  16107592.0          6  2016-06-10T22:30:00   \n",
       "189064  3114538  19216346.0         26  2019-10-23T14:59:00   \n",
       "42689   2099230   5079795.0         99  2005-05-10T19:10:00   \n",
       "70968   2899700  17046357.0         26  2017-03-14T19:34:00   \n",
       "8878    2818870  16053508.0         99  2016-03-25T15:25:00   \n",
       "\n",
       "                                        INCIDENTLOCATION CLEAREDFLAG  \\\n",
       "17893   Allegheny SQ & East Commons Pittsburgh, PA 15212           N   \n",
       "189064      East Ohio ST & Cedar AV Pittsburgh, PA 15212           Y   \n",
       "42689      BRIGHTON RD & PENNSYLVANIA AV PITTSBURGH, PA            Y   \n",
       "70968       100 Block South Commons Pittsburgh, PA 15212           Y   \n",
       "8878         200 Block East Ohio ST Pittsburgh, PA 15212           Y   \n",
       "\n",
       "       INCIDENTNEIGHBORHOOD INCIDENTZONE INCIDENTHIERARCHYDESC  \\\n",
       "17893      Allegheny Center            1       THEFT FROM AUTO   \n",
       "189064     Allegheny Center            1    DRUG PARAPHERNALIA   \n",
       "42689      Allegheny Center            1                   NaN   \n",
       "70968      Allegheny Center            1     CRIMINAL TRESPASS   \n",
       "8878       Allegheny Center            1                   NaN   \n",
       "\n",
       "                                                 OFFENSES  INCIDENTTRACT  \\\n",
       "17893   3304 Criminal Mischief. / 3934 Theft from Vehicle         2204.0   \n",
       "189064        13(a)(32) Paraphernalia - Use or Possession         2204.0   \n",
       "42689                                   9498 302 (Mental)         2204.0   \n",
       "70968                  3503(b)(1)(i) Actual Communication         2204.0   \n",
       "8878                                   9501 Bench Warrant         2204.0   \n",
       "\n",
       "        COUNCIL_DISTRICT  PUBLIC_WORKS_DIVISION          X          Y  \n",
       "17893                1.0                    1.0 -80.003840  40.453434  \n",
       "189064               1.0                    1.0 -80.001697  40.453320  \n",
       "42689                1.0                    1.0 -80.015348  40.456096  \n",
       "70968                1.0                    1.0 -80.005189  40.451003  \n",
       "8878                 1.0                    1.0 -80.003660  40.453022  "
      ]
     },
     "execution_count": 3,
     "metadata": {},
     "output_type": "execute_result"
    }
   ],
   "source": [
    "police.head()"
   ]
  },
  {
   "cell_type": "code",
   "execution_count": 15,
   "metadata": {},
   "outputs": [
    {
     "data": {
      "text/html": [
       "<div>\n",
       "<style scoped>\n",
       "    .dataframe tbody tr th:only-of-type {\n",
       "        vertical-align: middle;\n",
       "    }\n",
       "\n",
       "    .dataframe tbody tr th {\n",
       "        vertical-align: top;\n",
       "    }\n",
       "\n",
       "    .dataframe thead th {\n",
       "        text-align: right;\n",
       "    }\n",
       "</style>\n",
       "<table border=\"1\" class=\"dataframe\">\n",
       "  <thead>\n",
       "    <tr style=\"text-align: right;\">\n",
       "      <th></th>\n",
       "      <th>INCIDENTNEIGHBORHOOD</th>\n",
       "      <th>Neighborhood</th>\n",
       "    </tr>\n",
       "  </thead>\n",
       "  <tbody>\n",
       "    <tr>\n",
       "      <th>South Side Flats</th>\n",
       "      <td>11726</td>\n",
       "      <td>South Side Flats</td>\n",
       "    </tr>\n",
       "    <tr>\n",
       "      <th>Central Business District</th>\n",
       "      <td>8854</td>\n",
       "      <td>Central Business District</td>\n",
       "    </tr>\n",
       "    <tr>\n",
       "      <th>Carrick</th>\n",
       "      <td>6605</td>\n",
       "      <td>Carrick</td>\n",
       "    </tr>\n",
       "    <tr>\n",
       "      <th>Bloomfield</th>\n",
       "      <td>5532</td>\n",
       "      <td>Bloomfield</td>\n",
       "    </tr>\n",
       "    <tr>\n",
       "      <th>Shadyside</th>\n",
       "      <td>5109</td>\n",
       "      <td>Shadyside</td>\n",
       "    </tr>\n",
       "  </tbody>\n",
       "</table>\n",
       "</div>"
      ],
      "text/plain": [
       "                           INCIDENTNEIGHBORHOOD               Neighborhood\n",
       "South Side Flats                          11726           South Side Flats\n",
       "Central Business District                  8854  Central Business District\n",
       "Carrick                                    6605                    Carrick\n",
       "Bloomfield                                 5532                 Bloomfield\n",
       "Shadyside                                  5109                  Shadyside"
      ]
     },
     "execution_count": 15,
     "metadata": {},
     "output_type": "execute_result"
    }
   ],
   "source": [
    "crimesPerNeighborhood = police['INCIDENTNEIGHBORHOOD'].value_counts()\n",
    "crimesFrame = pd.DataFrame(crimesPerNeighborhood)\n",
    "crimesFrame['Neighborhood'] = list(crimesFrame.index)\n",
    "crimesFrame.head()"
   ]
  },
  {
   "cell_type": "code",
   "execution_count": 9,
   "metadata": {},
   "outputs": [
    {
     "data": {
      "text/plain": [
       "<matplotlib.axes._subplots.AxesSubplot at 0x7f752a6a7550>"
      ]
     },
     "execution_count": 9,
     "metadata": {},
     "output_type": "execute_result"
    },
    {
     "data": {
      "image/png": "[encoded data removed]",
      "text/plain": [
       "<Figure size 432x288 with 1 Axes>"
      ]
     },
     "metadata": {
      "needs_background": "light"
     },
     "output_type": "display_data"
    }
   ],
   "source": [
    "crimesPerNeighborhood.iloc[0:33].plot.bar()"
   ]
  },
  {
   "cell_type": "code",
   "execution_count": 10,
   "metadata": {},
   "outputs": [
    {
     "data": {
      "text/plain": [
       "<matplotlib.axes._subplots.AxesSubplot at 0x7f752a721ef0>"
      ]
     },
     "execution_count": 10,
     "metadata": {},
     "output_type": "execute_result"
    },
    {
     "data": {
      "image/png": "[encoded data removed]",
      "text/plain": [
       "<Figure size 432x288 with 1 Axes>"
      ]
     },
     "metadata": {
      "needs_background": "light"
     },
     "output_type": "display_data"
    }
   ],
   "source": [
    "crimesPerNeighborhood.iloc[34:66].plot.bar()"
   ]
  },
  {
   "cell_type": "code",
   "execution_count": 11,
   "metadata": {},
   "outputs": [
    {
     "data": {
      "text/plain": [
       "<matplotlib.axes._subplots.AxesSubplot at 0x7f752a387278>"
      ]
     },
     "execution_count": 11,
     "metadata": {},
     "output_type": "execute_result"
    },
    {
     "data": {
      "image/png": "[encoded data removed]",
      "text/plain": [
       "<Figure size 432x288 with 1 Axes>"
      ]
     },
     "metadata": {
      "needs_background": "light"
     },
     "output_type": "display_data"
    }
   ],
   "source": [
    "crimesPerNeighborhood.iloc[67:99].plot.bar()"
   ]
  },
  {
   "cell_type": "code",
   "execution_count": 16,
   "metadata": {},
   "outputs": [
    {
     "data": {
      "text/plain": [
       "THEFT FROM AUTO                   11159\n",
       "THEFT/ALL OTHERS                   9122\n",
       "SIMPLE ASSAULT/INJURY              7624\n",
       "CRIMINAL MISCHIEF (AUTO)           7451\n",
       "CRIMINAL MISCHIEF                  5312\n",
       "HARRASSMENT/THREAT/ATTEMPT/PHY     5144\n",
       "RETAIL THEFT (SHOPLIFTING)         5075\n",
       "MTR VEH THEFT (AUTO)               4257\n",
       "MARIJUANA-POSSESS                  3414\n",
       "BURGLARY/FORCE ENT/RES             3117\n",
       "Name: INCIDENTHIERARCHYDESC, dtype: int64"
      ]
     },
     "execution_count": 16,
     "metadata": {},
     "output_type": "execute_result"
    }
   ],
   "source": [
    "typesOfCrimes = police['INCIDENTHIERARCHYDESC'].value_counts()\n",
    "typesOfCrimes.head(10)"
   ]
  },
  {
   "cell_type": "code",
   "execution_count": 13,
   "metadata": {},
   "outputs": [
    {
     "data": {
      "text/html": [
       "<div>\n",
       "<style scoped>\n",
       "    .dataframe tbody tr th:only-of-type {\n",
       "        vertical-align: middle;\n",
       "    }\n",
       "\n",
       "    .dataframe tbody tr th {\n",
       "        vertical-align: top;\n",
       "    }\n",
       "\n",
       "    .dataframe thead th {\n",
       "        text-align: right;\n",
       "    }\n",
       "</style>\n",
       "<table border=\"1\" class=\"dataframe\">\n",
       "  <thead>\n",
       "    <tr style=\"text-align: right;\">\n",
       "      <th></th>\n",
       "      <th>Neighborhood</th>\n",
       "      <th>Population (2010)</th>\n",
       "    </tr>\n",
       "  </thead>\n",
       "  <tbody>\n",
       "    <tr>\n",
       "      <th>0</th>\n",
       "      <td>Allegheny Center</td>\n",
       "      <td>933</td>\n",
       "    </tr>\n",
       "    <tr>\n",
       "      <th>1</th>\n",
       "      <td>Allegheny West</td>\n",
       "      <td>462</td>\n",
       "    </tr>\n",
       "    <tr>\n",
       "      <th>2</th>\n",
       "      <td>Allentown</td>\n",
       "      <td>2,500</td>\n",
       "    </tr>\n",
       "    <tr>\n",
       "      <th>3</th>\n",
       "      <td>Arlington</td>\n",
       "      <td>1,869</td>\n",
       "    </tr>\n",
       "    <tr>\n",
       "      <th>4</th>\n",
       "      <td>Arlington Heights</td>\n",
       "      <td>244</td>\n",
       "    </tr>\n",
       "  </tbody>\n",
       "</table>\n",
       "</div>"
      ],
      "text/plain": [
       "        Neighborhood Population (2010)\n",
       "0   Allegheny Center               933\n",
       "1     Allegheny West               462\n",
       "2          Allentown             2,500\n",
       "3          Arlington             1,869\n",
       "4  Arlington Heights               244"
      ]
     },
     "execution_count": 13,
     "metadata": {},
     "output_type": "execute_result"
    }
   ],
   "source": [
    "population = pd.read_csv(\"population_data.csv\")\n",
    "pops = population.loc[:, ['Neighborhood','Population (2010)']]\n",
    "pops.head()"
   ]
  },
  {
   "cell_type": "code",
   "execution_count": 14,
   "metadata": {},
   "outputs": [
    {
     "name": "stderr",
     "output_type": "stream",
     "text": [
      "/ihome/crc/install/python/miniconda3-3.7/lib/python3.7/site-packages/ipykernel_launcher.py:6: SettingWithCopyWarning: \n",
      "A value is trying to be set on a copy of a slice from a DataFrame\n",
      "\n",
      "See the caveats in the documentation: http://pandas.pydata.org/pandas-docs/stable/indexing.html#indexing-view-versus-copy\n",
      "  \n"
     ]
    },
    {
     "data": {
      "text/html": [
       "<div>\n",
       "<style scoped>\n",
       "    .dataframe tbody tr th:only-of-type {\n",
       "        vertical-align: middle;\n",
       "    }\n",
       "\n",
       "    .dataframe tbody tr th {\n",
       "        vertical-align: top;\n",
       "    }\n",
       "\n",
       "    .dataframe thead th {\n",
       "        text-align: right;\n",
       "    }\n",
       "</style>\n",
       "<table border=\"1\" class=\"dataframe\">\n",
       "  <thead>\n",
       "    <tr style=\"text-align: right;\">\n",
       "      <th></th>\n",
       "      <th>INCIDENTNEIGHBORHOOD</th>\n",
       "      <th>Neighborhood</th>\n",
       "      <th>Population (2010)</th>\n",
       "      <th>rat</th>\n",
       "    </tr>\n",
       "  </thead>\n",
       "  <tbody>\n",
       "    <tr>\n",
       "      <th>0</th>\n",
       "      <td>11726</td>\n",
       "      <td>South Side Flats</td>\n",
       "      <td>6597</td>\n",
       "      <td>1.777475</td>\n",
       "    </tr>\n",
       "    <tr>\n",
       "      <th>1</th>\n",
       "      <td>8854</td>\n",
       "      <td>Central Business District</td>\n",
       "      <td>3629</td>\n",
       "      <td>2.439791</td>\n",
       "    </tr>\n",
       "    <tr>\n",
       "      <th>2</th>\n",
       "      <td>6605</td>\n",
       "      <td>Carrick</td>\n",
       "      <td>10113</td>\n",
       "      <td>0.653120</td>\n",
       "    </tr>\n",
       "    <tr>\n",
       "      <th>3</th>\n",
       "      <td>5532</td>\n",
       "      <td>Bloomfield</td>\n",
       "      <td>8442</td>\n",
       "      <td>0.655295</td>\n",
       "    </tr>\n",
       "    <tr>\n",
       "      <th>4</th>\n",
       "      <td>5109</td>\n",
       "      <td>Shadyside</td>\n",
       "      <td>13915</td>\n",
       "      <td>0.367158</td>\n",
       "    </tr>\n",
       "    <tr>\n",
       "      <th>5</th>\n",
       "      <td>4298</td>\n",
       "      <td>Squirrel Hill South</td>\n",
       "      <td>15110</td>\n",
       "      <td>0.284447</td>\n",
       "    </tr>\n",
       "    <tr>\n",
       "      <th>6</th>\n",
       "      <td>4295</td>\n",
       "      <td>Homewood South</td>\n",
       "      <td>2344</td>\n",
       "      <td>1.832338</td>\n",
       "    </tr>\n",
       "    <tr>\n",
       "      <th>7</th>\n",
       "      <td>4282</td>\n",
       "      <td>East Liberty</td>\n",
       "      <td>5869</td>\n",
       "      <td>0.729596</td>\n",
       "    </tr>\n",
       "    <tr>\n",
       "      <th>8</th>\n",
       "      <td>4008</td>\n",
       "      <td>Mount Washington</td>\n",
       "      <td>8799</td>\n",
       "      <td>0.455506</td>\n",
       "    </tr>\n",
       "    <tr>\n",
       "      <th>9</th>\n",
       "      <td>3886</td>\n",
       "      <td>Brookline</td>\n",
       "      <td>13214</td>\n",
       "      <td>0.294082</td>\n",
       "    </tr>\n",
       "  </tbody>\n",
       "</table>\n",
       "</div>"
      ],
      "text/plain": [
       "   INCIDENTNEIGHBORHOOD               Neighborhood  Population (2010)  \\\n",
       "0                 11726           South Side Flats               6597   \n",
       "1                  8854  Central Business District               3629   \n",
       "2                  6605                    Carrick              10113   \n",
       "3                  5532                 Bloomfield               8442   \n",
       "4                  5109                  Shadyside              13915   \n",
       "5                  4298        Squirrel Hill South              15110   \n",
       "6                  4295             Homewood South               2344   \n",
       "7                  4282               East Liberty               5869   \n",
       "8                  4008           Mount Washington               8799   \n",
       "9                  3886                  Brookline              13214   \n",
       "\n",
       "        rat  \n",
       "0  1.777475  \n",
       "1  2.439791  \n",
       "2  0.653120  \n",
       "3  0.655295  \n",
       "4  0.367158  \n",
       "5  0.284447  \n",
       "6  1.832338  \n",
       "7  0.729596  \n",
       "8  0.455506  \n",
       "9  0.294082  "
      ]
     },
     "execution_count": 14,
     "metadata": {},
     "output_type": "execute_result"
    }
   ],
   "source": [
    "crimeFrame = pd.DataFrame(crimesPerNeighborhood)\n",
    "crimeFrame.head()\n",
    "ratio = pd.merge(crimesFrame, pops, how='inner', left_on='Neighborhood', right_on='Neighborhood')\n",
    "count = 0\n",
    "for x in ratio['Population (2010)']:\n",
    "    ratio['Population (2010)'][count] = x.replace(',','')\n",
    "    count = count+1\n",
    "\n",
    "ratio['Population (2010)'] = ratio['Population (2010)'].astype(int)\n",
    "ratio['rat'] = ratio['INCIDENTNEIGHBORHOOD']/ratio['Population (2010)']\n",
    "ratio.head(10)"
   ]
  },
  {
   "cell_type": "code",
   "execution_count": null,
   "metadata": {},
   "outputs": [],
   "source": []
  }
 ],
 "metadata": {
  "kernelspec": {
   "display_name": "Python 3.7",
   "language": "python",
   "name": "python3"
  },
  "language_info": {
   "codemirror_mode": {
    "name": "ipython",
    "version": 3
   },
   "file_extension": ".py",
   "mimetype": "text/x-python",
   "name": "python",
   "nbconvert_exporter": "python",
   "pygments_lexer": "ipython3",
   "version": "3.7.0"
  }
 },
 "nbformat": 4,
 "nbformat_minor": 4
}
